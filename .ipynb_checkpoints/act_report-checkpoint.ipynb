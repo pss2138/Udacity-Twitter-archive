{
 "cells": [
  {
   "cell_type": "markdown",
   "metadata": {},
   "source": [
    "### Insights\n",
    "- According to the rating numerator column, most of the users know that there is no maximum rating system(usually 10 points) and rate more than 10. (visualized data with 'Visualization') If there was a limitation rating points upto 10, the variance of the ratings could be differred again.\n",
    "\n",
    "\n"
   ]
  },
  {
   "cell_type": "markdown",
   "metadata": {},
   "source": [
    "- As we refer the first data below, Yorkshire Terrier with more than one number photos had the highest confident algorithm in the #1 predicion. It means that is is adventageous to apply the algorithm with more than one number of photos with Yorkshire Terrier."
   ]
  },
  {
   "cell_type": "markdown",
   "metadata": {},
   "source": [
    "- There was a significant relationship between favorite count and retweet counts, having the p-value '0'. As the number of retweet increase one unit, the favorite also increases 1.57.\n",
    "- However, as the R-squared number is 0.494, it is difficult to say that we can easily trust this regression."
   ]
  },
  {
   "cell_type": "markdown",
   "metadata": {},
   "source": [
    "### Visualization"
   ]
  },
  {
   "cell_type": "markdown",
   "metadata": {},
   "source": [
    "- First, we had to delete the outliers, even as we could have checked the numbers of ratings were widely varied. Therefore, the meaningful data was between 7 and 15 points.\n",
    "- As most of the rates for the posts are positioned between 10 and 13, most of the users tend to give more than 10 points (when it is usually easy to think that the maximum rate would be out of 10).\n",
    "- we can understand how generously the users rate the posts."
   ]
  },
  {
   "cell_type": "code",
   "execution_count": 159,
   "metadata": {
    "scrolled": true
   },
   "outputs": [
    {
     "data": {
      "image/png": "[encoded data removed]",
      "text/plain": [
       "<matplotlib.figure.Figure at 0x7f949c089ba8>"
      ]
     },
     "metadata": {
      "needs_background": "light"
     },
     "output_type": "display_data"
    }
   ],
   "source": [
    "twitter_archive_clean['rating_numerator'].hist(bins = np.arange(7,17,1), width=0.7)\n",
    "plt.title(\"Valid Rating Numerator\")\n",
    "plt.xlabel(\"Rates\")\n",
    "plt.ylabel(\"Numbers of Rates\")\n",
    "plt.show()"
   ]
  }
 ],
 "metadata": {
  "hide_input": true,
  "kernelspec": {
   "display_name": "Python 3",
   "language": "python",
   "name": "python3"
  },
  "language_info": {
   "codemirror_mode": {
    "name": "ipython",
    "version": 3
   },
   "file_extension": ".py",
   "mimetype": "text/x-python",
   "name": "python",
   "nbconvert_exporter": "python",
   "pygments_lexer": "ipython3",
   "version": "3.7.7"
  }
 },
 "nbformat": 4,
 "nbformat_minor": 2
}
