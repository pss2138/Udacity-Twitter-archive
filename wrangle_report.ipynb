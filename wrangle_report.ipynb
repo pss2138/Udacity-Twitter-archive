{
 "cells": [
  {
   "cell_type": "markdown",
   "metadata": {},
   "source": [
    "### Gathering Data"
   ]
  },
  {
   "cell_type": "markdown",
   "metadata": {},
   "source": [
    "- Gathering and loading the data of \"twitter_archive_enhanced.csv\", \"image_predictions.tsv\", \"tweet_json.txt\" files"
   ]
  },
  {
   "cell_type": "markdown",
   "metadata": {},
   "source": [
    "### Assessing Data"
   ]
  },
  {
   "cell_type": "markdown",
   "metadata": {},
   "source": [
    "#### Quality\n",
    "1) twitter_archive table\n",
    "- 'name' is all written by the string including Nones\n",
    "- 'name' sometimes do not have the right name i.e. \"a\"\n",
    "- 'doggo' 'floofer'\t'pupper' 'puppo' are written by string including Nones\n",
    "- 'rating_numerator' values sometimes have outliers\n",
    "- 'tweet_id' is integer\n",
    "- we do not need the tweets beyond August 1st, 2017\n",
    "- delete unnecessary columns regarding to image_predictions and tweets_df table\n",
    "\n",
    "2) tweets_df table\n",
    "- 'tweet_id' is integer\n",
    "\n",
    "3) image_predictions table\n",
    "- 'p1' 'p2' 'p3' have lower cases\n",
    "- 'tweet_id' is integer\n",
    "- it is easier to read the names of 'p1', 'p2', 'p3' without deliminators"
   ]
  },
  {
   "cell_type": "markdown",
   "metadata": {},
   "source": [
    "#### Tidiness\n",
    "- We need a new combined csv file\n",
    "- Make a new column 'dogs' to show the types of dogs at once"
   ]
  },
  {
   "cell_type": "markdown",
   "metadata": {},
   "source": [
    "### Cleaning"
   ]
  },
  {
   "cell_type": "markdown",
   "metadata": {},
   "source": [
    "#### Quality"
   ]
  },
  {
   "cell_type": "markdown",
   "metadata": {},
   "source": [
    "1) twitter_archive table\n",
    "- 'name' is all written by the string including Nones -> Replace \"None\" strings to null values\n",
    "- 'name' sometimes do not have the right name i.e. \"a\" -> Replace \"a\" to null values\n",
    "- 'doggo' 'floofer'\t'pupper' 'puppo' are written by string including Nones -> Replace \"None\" strings to null values\n",
    "- 'rating_numerator' values sometimes have outliers -> Omit the outliers using the Outlier Formula\n",
    "- 'tweet_id' is integer -> Change the data type to string\n",
    "- we do not need the tweets beyond August 1st, 2017 -> Change the data type to datetime, but no data to be deleted\n",
    "- delete unnecessary columns regarding to image_predictions and tweets_df table -> Erase the columns that we didn't need\n",
    "\n",
    "2) tweets_df table\n",
    "- 'tweet_id' is integer -> Change the data type to string\n",
    "\n",
    "3) image_predictions table\n",
    "- 'p1' 'p2' 'p3' have lower cases -> Use  the str.title() method\n",
    "- 'tweet_id' is integer -> Change the data type to string\n",
    "- it is easier to read the names of 'p1', 'p2', 'p3' without deliminators -> Erase the delimiters \"-\""
   ]
  },
  {
   "cell_type": "markdown",
   "metadata": {},
   "source": [
    "#### Tidiness\n",
    "- Merge all 3 tables and save it as csv file\n",
    "- Make a new column 'dogs' to show the types of dogs at once"
   ]
  }
 ],
 "metadata": {
  "kernelspec": {
   "display_name": "Python 3",
   "language": "python",
   "name": "python3"
  },
  "language_info": {
   "codemirror_mode": {
    "name": "ipython",
    "version": 3
   },
   "file_extension": ".py",
   "mimetype": "text/x-python",
   "name": "python",
   "nbconvert_exporter": "python",
   "pygments_lexer": "ipython3",
   "version": "3.6.3"
  }
 },
 "nbformat": 4,
 "nbformat_minor": 2
}
